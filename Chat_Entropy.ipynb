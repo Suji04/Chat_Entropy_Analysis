{
  "nbformat": 4,
  "nbformat_minor": 0,
  "metadata": {
    "colab": {
      "name": "Chat Entropy.ipynb",
      "version": "0.3.2",
      "provenance": [],
      "include_colab_link": true
    },
    "language_info": {
      "codemirror_mode": {
        "name": "ipython",
        "version": 3
      },
      "file_extension": ".py",
      "mimetype": "text/x-python",
      "name": "python",
      "nbconvert_exporter": "python",
      "pygments_lexer": "ipython3",
      "version": "3.6.5"
    },
    "kernelspec": {
      "display_name": "Python 3",
      "language": "python",
      "name": "python3"
    }
  },
  "cells": [
    {
      "cell_type": "markdown",
      "metadata": {
        "id": "view-in-github",
        "colab_type": "text"
      },
      "source": [
        "<a href=\"https://colab.research.google.com/github/Suji04/Chat_Entropy_Analysis/blob/master/Chat_Entropy.ipynb\" target=\"_parent\"><img src=\"https://colab.research.google.com/assets/colab-badge.svg\" alt=\"Open In Colab\"/></a>"
      ]
    },
    {
      "cell_type": "markdown",
      "metadata": {
        "id": "u4XiNevzd46s",
        "colab_type": "text"
      },
      "source": [
        "## Libraries"
      ]
    },
    {
      "cell_type": "code",
      "metadata": {
        "id": "sCpnZ-4kd46t",
        "colab_type": "code",
        "colab": {}
      },
      "source": [
        "import numpy as np\n",
        "import re\n",
        "from collections import Counter\n",
        "import matplotlib.pyplot as plt"
      ],
      "execution_count": 0,
      "outputs": []
    },
    {
      "cell_type": "markdown",
      "metadata": {
        "id": "Pztq0wOvd46x",
        "colab_type": "text"
      },
      "source": [
        "## Function to remove emojies and short forms"
      ]
    },
    {
      "cell_type": "code",
      "metadata": {
        "id": "QkkbC-iYd46y",
        "colab_type": "code",
        "colab": {}
      },
      "source": [
        "def clean_text(text):\n",
        "    text = text.lower()\n",
        "    emoji = re.compile(\"[\"\n",
        "                           u\"\\U0001F600-\\U0001FFFF\"  # emoticons\n",
        "                           u\"\\U0001F300-\\U0001F5FF\"  # symbols & pictographs\n",
        "                           u\"\\U0001F680-\\U0001F6FF\"  # transport & map symbols\n",
        "                           u\"\\U0001F1E0-\\U0001F1FF\"  # flags (iOS)\n",
        "                           u\"\\U00002702-\\U000027B0\"\n",
        "                           u\"\\U000024C2-\\U0001F251\"\n",
        "                           \"]+\", flags=re.UNICODE)\n",
        "    \n",
        "    text = emoji.sub(r'', text)\n",
        "    text = re.sub(r\"i'm\", \"i am\", text)\n",
        "    text = re.sub(r\"he's\", \"he is\", text)\n",
        "    text = re.sub(r\"she's\", \"she is\", text)\n",
        "    text = re.sub(r\"that's\", \"that is\", text)        \n",
        "    text = re.sub(r\"what's\", \"what is\", text)\n",
        "    text = re.sub(r\"where's\", \"where is\", text) \n",
        "    text = re.sub(r\"\\'ll\", \" will\", text)  \n",
        "    text = re.sub(r\"\\'ve\", \" have\", text)  \n",
        "    text = re.sub(r\"\\'re\", \" are\", text)\n",
        "    text = re.sub(r\"\\'d\", \" would\", text)\n",
        "    text = re.sub(r\"\\'ve\", \" have\", text)\n",
        "    text = re.sub(r\"won't\", \"will not\", text)\n",
        "    text = re.sub(r\"can't\", \"can not\", text)\n",
        "    text = re.sub(r\"[,.\\\"\\'!@#$%^&*(){}?/;`~:<>+=-]\", \"\", text)\n",
        "    return text"
      ],
      "execution_count": 0,
      "outputs": []
    },
    {
      "cell_type": "markdown",
      "metadata": {
        "id": "tDfBSY9jd461",
        "colab_type": "text"
      },
      "source": [
        "## Helper function to make dictionary"
      ]
    },
    {
      "cell_type": "code",
      "metadata": {
        "id": "pdD73Xead462",
        "colab_type": "code",
        "colab": {}
      },
      "source": [
        "def make_dict(conv):\n",
        "    cleaned_conv = \"\"\n",
        "    for q in conv:\n",
        "        q = clean_text(q)\n",
        "        if q != \"\":\n",
        "            cleaned_conv = cleaned_conv + q + ' '\n",
        "            \n",
        "    cleaned_conv = cleaned_conv.split(\" \")  \n",
        "    cleaned_conv_final = []\n",
        "    for i in cleaned_conv:\n",
        "        if i!='': cleaned_conv_final.append(i)\n",
        "    \n",
        "    return Counter(cleaned_conv_final) "
      ],
      "execution_count": 0,
      "outputs": []
    },
    {
      "cell_type": "markdown",
      "metadata": {
        "id": "x-nxGupid465",
        "colab_type": "text"
      },
      "source": [
        "## Function for formatting the text and creating dictionary"
      ]
    },
    {
      "cell_type": "code",
      "metadata": {
        "id": "Eum-JYrFd466",
        "colab_type": "code",
        "colab": {}
      },
      "source": [
        "def chat_to_dict(friend, my_name):\n",
        "    conversations = open(friend+'.txt', encoding = 'utf-8', errors = 'ignore').read().split('\\n')    \n",
        "\n",
        "    conv_all = []\n",
        "    for conv in conversations[:-1]:\n",
        "        _conv = conv.split(' - ')\n",
        "        conv_all.append(_conv[1:])\n",
        "    \n",
        "    conv_me = []\n",
        "    conv_friend = [] \n",
        "    conv_both = []\n",
        "    for conv in conv_all[0:3000]:\n",
        "        _conv = str(conv).replace(\"['\",\"\").replace(\"']\",\"\")\n",
        "        _conv = _conv.split(': ')\n",
        "        conv_both.append(str(_conv[1:2]).replace(\"['\",\"\").replace(\"']\",\"\").replace(\"...\",\" \"))\n",
        "        if _conv[0] == my_name:\n",
        "            conv_me.append(str(_conv[1:2]).replace(\"['\",\"\").replace(\"']\",\"\").replace(\"...\",\" \"))\n",
        "        else:\n",
        "            conv_friend.append(str(_conv[1:2]).replace(\"['\",\"\").replace(\"']\",\"\").replace(\"...\",\" \"))\n",
        "            \n",
        "    me = make_dict(conv_me)\n",
        "    both = make_dict(conv_both)\n",
        "    fr = make_dict(conv_friend)\n",
        "    \n",
        "    return me, fr, both"
      ],
      "execution_count": 0,
      "outputs": []
    },
    {
      "cell_type": "markdown",
      "metadata": {
        "id": "LRx3CSr4e5Gz",
        "colab_type": "text"
      },
      "source": [
        "## Calculating word entropy using Shannon equation\n",
        "![alt text](https://github.com/Suji04/Chat_Entropy_Analysis/blob/master/shannon_equation.jpg)"
      ]
    },
    {
      "cell_type": "code",
      "metadata": {
        "id": "gZ3Iz21Cd46-",
        "colab_type": "code",
        "colab": {}
      },
      "source": [
        "def entropy(dic):\n",
        "    total = sum(dic.values())\n",
        "    return sum(freq / total * np.log2(total / freq) for freq in dic.values())"
      ],
      "execution_count": 0,
      "outputs": []
    },
    {
      "cell_type": "markdown",
      "metadata": {
        "id": "YxvZ28Erd47B",
        "colab_type": "text"
      },
      "source": [
        "## Passing the file names and your username"
      ]
    },
    {
      "cell_type": "code",
      "metadata": {
        "id": "h-tgACNvd47D",
        "colab_type": "code",
        "colab": {}
      },
      "source": [
        "me, fr, both = [], [], []\n",
        "friends = ['friend A', 'friend B', 'friend C'] # add file names (without .txt)\n",
        "for f in friends:\n",
        "    a,b,c = chat_to_dict(f, my_name='orion') # add your whatsapp username\n",
        "    me.append(entropy(a))\n",
        "    fr.append(entropy(b))\n",
        "    both.append(entropy(c))"
      ],
      "execution_count": 0,
      "outputs": []
    },
    {
      "cell_type": "markdown",
      "metadata": {
        "id": "_qm16to_d47I",
        "colab_type": "text"
      },
      "source": [
        "## Visualize the entropies with a bar chart"
      ]
    },
    {
      "cell_type": "code",
      "metadata": {
        "id": "PYF-b4dpd47J",
        "colab_type": "code",
        "colab": {}
      },
      "source": [
        "n_groups = 3\n",
        "fig, ax = plt.subplots()\n",
        "index = np.arange(n_groups)\n",
        "bar_width = 0.15\n",
        "error_config = {'ecolor': '0.2'}\n",
        "rects1 = ax.bar(index, me, bar_width,\n",
        "                color='skyblue',\n",
        "                error_kw=error_config,\n",
        "                label='Me')\n",
        "rects2 = ax.bar(index + bar_width, fr, bar_width,\n",
        "                color='orange',\n",
        "                error_kw=error_config,\n",
        "                label='Friend')\n",
        "\n",
        "rects3 = ax.bar(index + 2*bar_width, both, bar_width,\n",
        "                color='red',\n",
        "                error_kw=error_config,\n",
        "                label='Combined')\n",
        "\n",
        "ax.set_xlabel('Whatsapp Chat with')\n",
        "ax.set_ylabel('Entropy / Information')\n",
        "ax.set_title('Analysis of Entropy in Chats')\n",
        "ax.set_xticks(index + bar_width / 2)\n",
        "ax.set_xticklabels(('friend A', 'friend B', 'friend C'))\n",
        "ax.legend(loc=4)\n",
        "major_ticks = np.arange(0, 11, 1)\n",
        "minor_ticks = np.arange(0, 11, .2)\n",
        "ax.set_yticks(major_ticks)\n",
        "ax.set_yticks(minor_ticks, minor=True)\n",
        "fig.tight_layout()\n",
        "ax.grid(which='minor', alpha=0.2)\n",
        "ax.grid(which='major', alpha=0.5)\n",
        "plt.show()"
      ],
      "execution_count": 0,
      "outputs": []
    }
  ]
}